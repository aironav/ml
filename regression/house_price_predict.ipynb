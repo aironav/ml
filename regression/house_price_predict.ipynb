{
 "cells": [
  {
   "cell_type": "code",
   "execution_count": 84,
   "id": "pediatric-basket",
   "metadata": {},
   "outputs": [],
   "source": [
    "import numpy as np\n",
    "import pandas as pd\n",
    "import matplotlib.pyplot as plt\n",
    "import seaborn as sns\n",
    "import plotly.express as px\n",
    "\n",
    "from sklearn.preprocessing import LabelEncoder\n",
    "from sklearn.preprocessing import StandardScaler\n",
    "from sklearn.model_selection import train_test_split\n",
    "from sklearn.ensemble import RandomForestRegressor\n",
    "from sklearn.tree import DecisionTreeRegressor\n",
    "from sklearn.linear_model import LinearRegression\n",
    "from sklearn.model_selection import cross_val_score\n",
    "from sklearn.neighbors import KNeighborsRegressor\n",
    "from sklearn.svm import SVR\n",
    "from sklearn.model_selection import GridSearchCV"
   ]
  },
  {
   "cell_type": "code",
   "execution_count": 85,
   "id": "exterior-scope",
   "metadata": {},
   "outputs": [],
   "source": [
    "data = pd.read_csv('../dataset/house_pricing.csv')"
   ]
  },
  {
   "cell_type": "code",
   "execution_count": 86,
   "id": "civilian-hungarian",
   "metadata": {},
   "outputs": [
    {
     "data": {
      "text/html": [
       "<div>\n",
       "<style scoped>\n",
       "    .dataframe tbody tr th:only-of-type {\n",
       "        vertical-align: middle;\n",
       "    }\n",
       "\n",
       "    .dataframe tbody tr th {\n",
       "        vertical-align: top;\n",
       "    }\n",
       "\n",
       "    .dataframe thead th {\n",
       "        text-align: right;\n",
       "    }\n",
       "</style>\n",
       "<table border=\"1\" class=\"dataframe\">\n",
       "  <thead>\n",
       "    <tr style=\"text-align: right;\">\n",
       "      <th></th>\n",
       "      <th>City</th>\n",
       "      <th>Type</th>\n",
       "      <th>Beds</th>\n",
       "      <th>Baths</th>\n",
       "      <th>SquareFeet</th>\n",
       "      <th>Price</th>\n",
       "    </tr>\n",
       "  </thead>\n",
       "  <tbody>\n",
       "    <tr>\n",
       "      <th>0</th>\n",
       "      <td>SACRAMENTO</td>\n",
       "      <td>Residential</td>\n",
       "      <td>2</td>\n",
       "      <td>1</td>\n",
       "      <td>836</td>\n",
       "      <td>138159.85</td>\n",
       "    </tr>\n",
       "    <tr>\n",
       "      <th>1</th>\n",
       "      <td>SACRAMENTO</td>\n",
       "      <td>Residential</td>\n",
       "      <td>3</td>\n",
       "      <td>1</td>\n",
       "      <td>1167</td>\n",
       "      <td>167541.46</td>\n",
       "    </tr>\n",
       "    <tr>\n",
       "      <th>2</th>\n",
       "      <td>SACRAMENTO</td>\n",
       "      <td>Residential</td>\n",
       "      <td>2</td>\n",
       "      <td>1</td>\n",
       "      <td>796</td>\n",
       "      <td>119095.12</td>\n",
       "    </tr>\n",
       "    <tr>\n",
       "      <th>3</th>\n",
       "      <td>SACRAMENTO</td>\n",
       "      <td>Residential</td>\n",
       "      <td>2</td>\n",
       "      <td>1</td>\n",
       "      <td>852</td>\n",
       "      <td>130904.95</td>\n",
       "    </tr>\n",
       "    <tr>\n",
       "      <th>4</th>\n",
       "      <td>SACRAMENTO</td>\n",
       "      <td>Residential</td>\n",
       "      <td>2</td>\n",
       "      <td>1</td>\n",
       "      <td>797</td>\n",
       "      <td>120266.19</td>\n",
       "    </tr>\n",
       "  </tbody>\n",
       "</table>\n",
       "</div>"
      ],
      "text/plain": [
       "         City         Type  Beds  Baths  SquareFeet      Price\n",
       "0  SACRAMENTO  Residential     2      1         836  138159.85\n",
       "1  SACRAMENTO  Residential     3      1        1167  167541.46\n",
       "2  SACRAMENTO  Residential     2      1         796  119095.12\n",
       "3  SACRAMENTO  Residential     2      1         852  130904.95\n",
       "4  SACRAMENTO  Residential     2      1         797  120266.19"
      ]
     },
     "execution_count": 86,
     "metadata": {},
     "output_type": "execute_result"
    }
   ],
   "source": [
    "data.head(5)"
   ]
  },
  {
   "cell_type": "code",
   "execution_count": 87,
   "id": "necessary-notion",
   "metadata": {},
   "outputs": [
    {
     "name": "stdout",
     "output_type": "stream",
     "text": [
      "<class 'pandas.core.frame.DataFrame'>\n",
      "RangeIndex: 814 entries, 0 to 813\n",
      "Data columns (total 6 columns):\n",
      " #   Column      Non-Null Count  Dtype  \n",
      "---  ------      --------------  -----  \n",
      " 0   City        814 non-null    object \n",
      " 1   Type        814 non-null    object \n",
      " 2   Beds        814 non-null    int64  \n",
      " 3   Baths       814 non-null    int64  \n",
      " 4   SquareFeet  814 non-null    int64  \n",
      " 5   Price       814 non-null    float64\n",
      "dtypes: float64(1), int64(3), object(2)\n",
      "memory usage: 38.3+ KB\n"
     ]
    }
   ],
   "source": [
    "data.info()"
   ]
  },
  {
   "cell_type": "code",
   "execution_count": 88,
   "id": "better-system",
   "metadata": {},
   "outputs": [],
   "source": [
    "data.drop(['Type'], inplace = True, axis = 1)"
   ]
  },
  {
   "cell_type": "code",
   "execution_count": 89,
   "id": "decreased-tokyo",
   "metadata": {},
   "outputs": [
    {
     "data": {
      "text/html": [
       "<div>\n",
       "<style scoped>\n",
       "    .dataframe tbody tr th:only-of-type {\n",
       "        vertical-align: middle;\n",
       "    }\n",
       "\n",
       "    .dataframe tbody tr th {\n",
       "        vertical-align: top;\n",
       "    }\n",
       "\n",
       "    .dataframe thead th {\n",
       "        text-align: right;\n",
       "    }\n",
       "</style>\n",
       "<table border=\"1\" class=\"dataframe\">\n",
       "  <thead>\n",
       "    <tr style=\"text-align: right;\">\n",
       "      <th></th>\n",
       "      <th>City</th>\n",
       "      <th>Beds</th>\n",
       "      <th>Baths</th>\n",
       "      <th>SquareFeet</th>\n",
       "      <th>Price</th>\n",
       "    </tr>\n",
       "  </thead>\n",
       "  <tbody>\n",
       "    <tr>\n",
       "      <th>0</th>\n",
       "      <td>SACRAMENTO</td>\n",
       "      <td>2</td>\n",
       "      <td>1</td>\n",
       "      <td>836</td>\n",
       "      <td>138159.85</td>\n",
       "    </tr>\n",
       "    <tr>\n",
       "      <th>1</th>\n",
       "      <td>SACRAMENTO</td>\n",
       "      <td>3</td>\n",
       "      <td>1</td>\n",
       "      <td>1167</td>\n",
       "      <td>167541.46</td>\n",
       "    </tr>\n",
       "  </tbody>\n",
       "</table>\n",
       "</div>"
      ],
      "text/plain": [
       "         City  Beds  Baths  SquareFeet      Price\n",
       "0  SACRAMENTO     2      1         836  138159.85\n",
       "1  SACRAMENTO     3      1        1167  167541.46"
      ]
     },
     "execution_count": 89,
     "metadata": {},
     "output_type": "execute_result"
    }
   ],
   "source": [
    "data.head(2)"
   ]
  },
  {
   "cell_type": "code",
   "execution_count": 90,
   "id": "younger-breast",
   "metadata": {
    "tags": []
   },
   "outputs": [
    {
     "data": {
      "text/plain": [
       "array(['SACRAMENTO', 'RANCHO CORDOVA', 'RIO LINDA', 'CITRUS HEIGHTS',\n",
       "       'NORTH HIGHLANDS', 'ANTELOPE', 'ELK GROVE', 'ELVERTA', 'GALT',\n",
       "       'CARMICHAEL', 'ORANGEVALE', 'FOLSOM', 'MATHER', 'POLLOCK PINES',\n",
       "       'GOLD RIVER', 'RANCHO MURIETA', 'WILTON', 'GREENWOOD', 'FAIR OAKS',\n",
       "       'PLACERVILLE', 'MEADOW VISTA', 'ROSEVILLE', 'LINCOLN',\n",
       "       'CAMERON PARK', 'ROCKLIN', 'LOOMIS', 'AUBURN', 'EL DORADO HILLS',\n",
       "       'EL DORADO', 'PENRYN', 'GRANITE BAY', 'DIAMOND SPRINGS', 'COOL',\n",
       "       'WALNUT GROVE', 'SLOUGHHOUSE', 'WEST SACRAMENTO'], dtype=object)"
      ]
     },
     "execution_count": 90,
     "metadata": {},
     "output_type": "execute_result"
    }
   ],
   "source": [
    "city = data['City'].unique()\n",
    "city"
   ]
  },
  {
   "cell_type": "code",
   "execution_count": 91,
   "id": "still-hollow",
   "metadata": {},
   "outputs": [],
   "source": [
    "x = LabelEncoder()\n",
    "city_label = x.fit_transform(data['City'])"
   ]
  },
  {
   "cell_type": "code",
   "execution_count": 92,
   "id": "opposite-nothing",
   "metadata": {
    "tags": []
   },
   "outputs": [
    {
     "data": {
      "text/plain": [
       "array([31, 31, 31, 31, 31, 31, 31, 31, 26, 28, 31, 31, 31, 31, 31, 31, 28,\n",
       "        4, 31, 28,  4, 31, 21, 31, 21,  0, 31, 31, 31, 31,  9, 21, 31, 10,\n",
       "        9, 31, 21, 31, 31, 31, 31, 31,  9,  0, 21, 31, 31, 31, 31, 31,  9,\n",
       "       31, 31, 31, 31, 13, 31, 31,  3, 31,  0, 13, 22, 13, 31, 31,  9,  0,\n",
       "       31, 31,  9, 12,  3, 31, 31,  9, 31,  9,  9, 31, 26,  4, 31, 31, 19,\n",
       "       28,  9, 31, 31,  9,  4,  9,  3,  9, 31,  9, 31, 31, 31, 25, 31, 31,\n",
       "       31, 25, 31, 31,  9,  9,  9, 31, 31,  9,  9, 14, 31,  9, 31, 26, 31,\n",
       "       22,  9,  9, 12,  9, 31,  9, 31, 27, 35,  9, 31, 31,  0, 31,  9, 16,\n",
       "        9, 31,  9, 26, 12,  9,  9,  9, 12, 31,  4, 31,  9, 31, 31, 31, 31,\n",
       "       31, 31, 31, 31, 31,  9, 31,  9, 13, 31, 21, 31, 26, 31, 31, 21, 31,\n",
       "       10, 21, 31, 31, 31, 31, 13, 11, 31, 31, 31, 31, 21, 31, 31, 31, 31,\n",
       "        9,  4, 31,  9, 31,  4, 31,  0, 31, 31, 26, 31, 31,  0,  9,  9, 26,\n",
       "        9,  3,  4, 31,  0, 31, 31, 31, 31, 24,  4,  4, 31, 31, 31,  9, 31,\n",
       "       28, 20, 11,  9, 31, 31, 31, 31, 31, 31, 22, 22, 30,  0,  4, 31,  9,\n",
       "        0, 31,  0, 31, 31,  9,  9,  9, 11, 31, 30, 11, 30, 31, 28, 13, 24,\n",
       "       31, 14, 31, 17, 12,  9, 31, 26, 31, 12, 13, 24, 30, 31, 31,  9,  9,\n",
       "        2, 29,  9, 13, 27, 31, 12, 31,  9, 31, 31,  3, 24,  9, 31,  3, 30,\n",
       "       11, 31, 18, 31, 31, 31, 31, 31, 31, 31, 31, 31, 31, 31, 31, 31, 31,\n",
       "       31, 31, 31, 31, 31, 31,  4, 31, 21, 31, 31, 31, 31,  0, 30, 31, 21,\n",
       "       31, 31, 31, 31, 31, 31, 13, 31, 31, 31, 10, 31, 30, 31, 21, 31, 28,\n",
       "        3, 10, 31, 31, 31, 31, 31, 31, 31, 31, 31,  4, 21, 31, 30,  4, 28,\n",
       "        9, 13,  4,  4, 31, 31, 31, 31, 13, 31, 31, 31, 31,  3, 30, 30, 31,\n",
       "        4, 31, 31, 31, 31, 31, 31, 31,  9,  4, 31,  9, 31, 31, 30, 30, 31,\n",
       "       31,  9,  9,  0, 13, 31, 31, 31, 31,  0, 31, 31, 31,  0, 31, 31, 26,\n",
       "       12, 31, 13,  0, 31, 31,  9, 31, 31, 31, 28, 28, 31, 22,  0,  9,  1,\n",
       "       31, 31,  8, 26,  3,  9,  9, 31, 31, 13, 31,  4, 29,  1,  3,  7, 31,\n",
       "        9, 26, 31, 31, 26, 31, 31, 31,  9,  0,  0, 31,  9, 31, 31,  9, 13,\n",
       "       31, 31, 31, 31, 29,  9, 31, 26, 31,  0, 31, 12, 31, 29,  9,  9, 31,\n",
       "       30, 22,  9, 12, 23, 14, 35, 12,  3, 15, 24, 35, 15,  4, 31, 21, 31,\n",
       "       31, 31, 31, 31, 31, 31, 31, 31, 31, 31, 31, 31, 31, 26, 31, 31, 31,\n",
       "       26, 31, 31, 31, 31, 31, 21, 31, 31, 21, 31, 31, 31, 31, 31, 31, 31,\n",
       "       31, 31, 31,  4, 31, 31, 31,  4,  0, 31, 13, 31, 31,  9, 31, 31,  0,\n",
       "       31,  4, 31, 31, 25, 31, 31,  4, 31, 26, 31, 30, 31, 28, 30, 31, 31,\n",
       "       31, 31, 31,  9, 31, 31, 30, 31, 26, 31, 31,  4, 31, 31, 31, 11,  3,\n",
       "        9,  0,  7, 31, 31,  0, 31, 31, 31,  9,  9, 30,  6, 31, 31, 31,  4,\n",
       "        9,  3, 31,  9,  9, 31, 31, 31,  9, 29, 31, 26,  9, 31,  0,  9, 31,\n",
       "       26, 31, 31,  0,  0,  3,  4,  9,  9, 31, 31,  9, 31, 30, 31, 22, 17,\n",
       "       31,  9,  9, 31, 17, 13, 31,  3,  4,  9,  9,  9, 31,  0, 31,  9, 18,\n",
       "        9, 31, 31,  5,  9, 29,  9,  4,  3, 12, 30, 31, 17, 22, 30,  0, 31,\n",
       "       31, 31, 29, 13, 26, 31, 31, 31, 22, 31, 29,  9,  0, 30, 30, 31, 30,\n",
       "       30, 33,  9,  3, 30,  9,  8, 31,  3,  1, 31, 12, 31, 12, 31, 30, 11,\n",
       "       31, 31, 12, 31, 15, 30, 35, 32, 31, 31, 31, 31, 31, 31, 31, 31, 31,\n",
       "       31, 31, 31, 31, 21, 31, 31, 31, 21, 31, 31, 31, 31, 31, 31, 31, 31,\n",
       "       31, 31, 31, 31, 28, 31, 26,  0, 31, 31, 34, 31, 31, 31, 31,  0, 31,\n",
       "       31, 21,  4, 31, 31, 31,  4, 31, 17, 31, 31, 31, 31, 31, 31,  9, 31,\n",
       "        9, 31, 11, 31, 31, 11,  4, 31, 22, 31, 31,  4, 31,  9,  9, 31,  9,\n",
       "       31, 31,  3,  9, 31, 30, 21, 13,  9,  0, 31,  9, 31,  4,  9,  9,  3,\n",
       "       13, 31, 31, 21, 22,  9, 17, 31, 31,  9, 31, 31,  4,  9,  8])"
      ]
     },
     "execution_count": 92,
     "metadata": {},
     "output_type": "execute_result"
    }
   ],
   "source": [
    "city_label"
   ]
  },
  {
   "cell_type": "code",
   "execution_count": 93,
   "id": "banner-price",
   "metadata": {},
   "outputs": [],
   "source": [
    "data['CityLabel'] = city_label"
   ]
  },
  {
   "cell_type": "code",
   "execution_count": 94,
   "id": "atmospheric-parallel",
   "metadata": {
    "tags": []
   },
   "outputs": [
    {
     "data": {
      "text/html": [
       "<div>\n",
       "<style scoped>\n",
       "    .dataframe tbody tr th:only-of-type {\n",
       "        vertical-align: middle;\n",
       "    }\n",
       "\n",
       "    .dataframe tbody tr th {\n",
       "        vertical-align: top;\n",
       "    }\n",
       "\n",
       "    .dataframe thead th {\n",
       "        text-align: right;\n",
       "    }\n",
       "</style>\n",
       "<table border=\"1\" class=\"dataframe\">\n",
       "  <thead>\n",
       "    <tr style=\"text-align: right;\">\n",
       "      <th></th>\n",
       "      <th>City</th>\n",
       "      <th>Beds</th>\n",
       "      <th>Baths</th>\n",
       "      <th>SquareFeet</th>\n",
       "      <th>Price</th>\n",
       "      <th>CityLabel</th>\n",
       "    </tr>\n",
       "  </thead>\n",
       "  <tbody>\n",
       "    <tr>\n",
       "      <th>0</th>\n",
       "      <td>SACRAMENTO</td>\n",
       "      <td>2</td>\n",
       "      <td>1</td>\n",
       "      <td>836</td>\n",
       "      <td>138159.85</td>\n",
       "      <td>31</td>\n",
       "    </tr>\n",
       "    <tr>\n",
       "      <th>1</th>\n",
       "      <td>SACRAMENTO</td>\n",
       "      <td>3</td>\n",
       "      <td>1</td>\n",
       "      <td>1167</td>\n",
       "      <td>167541.46</td>\n",
       "      <td>31</td>\n",
       "    </tr>\n",
       "    <tr>\n",
       "      <th>2</th>\n",
       "      <td>SACRAMENTO</td>\n",
       "      <td>2</td>\n",
       "      <td>1</td>\n",
       "      <td>796</td>\n",
       "      <td>119095.12</td>\n",
       "      <td>31</td>\n",
       "    </tr>\n",
       "    <tr>\n",
       "      <th>3</th>\n",
       "      <td>SACRAMENTO</td>\n",
       "      <td>2</td>\n",
       "      <td>1</td>\n",
       "      <td>852</td>\n",
       "      <td>130904.95</td>\n",
       "      <td>31</td>\n",
       "    </tr>\n",
       "    <tr>\n",
       "      <th>4</th>\n",
       "      <td>SACRAMENTO</td>\n",
       "      <td>2</td>\n",
       "      <td>1</td>\n",
       "      <td>797</td>\n",
       "      <td>120266.19</td>\n",
       "      <td>31</td>\n",
       "    </tr>\n",
       "    <tr>\n",
       "      <th>...</th>\n",
       "      <td>...</td>\n",
       "      <td>...</td>\n",
       "      <td>...</td>\n",
       "      <td>...</td>\n",
       "      <td>...</td>\n",
       "      <td>...</td>\n",
       "    </tr>\n",
       "    <tr>\n",
       "      <th>809</th>\n",
       "      <td>SACRAMENTO</td>\n",
       "      <td>4</td>\n",
       "      <td>3</td>\n",
       "      <td>2280</td>\n",
       "      <td>308248.47</td>\n",
       "      <td>31</td>\n",
       "    </tr>\n",
       "    <tr>\n",
       "      <th>810</th>\n",
       "      <td>SACRAMENTO</td>\n",
       "      <td>3</td>\n",
       "      <td>2</td>\n",
       "      <td>1477</td>\n",
       "      <td>212857.63</td>\n",
       "      <td>31</td>\n",
       "    </tr>\n",
       "    <tr>\n",
       "      <th>811</th>\n",
       "      <td>CITRUS HEIGHTS</td>\n",
       "      <td>3</td>\n",
       "      <td>2</td>\n",
       "      <td>1216</td>\n",
       "      <td>181746.98</td>\n",
       "      <td>4</td>\n",
       "    </tr>\n",
       "    <tr>\n",
       "      <th>812</th>\n",
       "      <td>ELK GROVE</td>\n",
       "      <td>4</td>\n",
       "      <td>2</td>\n",
       "      <td>1685</td>\n",
       "      <td>245385.59</td>\n",
       "      <td>9</td>\n",
       "    </tr>\n",
       "    <tr>\n",
       "      <th>813</th>\n",
       "      <td>EL DORADO HILLS</td>\n",
       "      <td>3</td>\n",
       "      <td>2</td>\n",
       "      <td>1362</td>\n",
       "      <td>263355.13</td>\n",
       "      <td>8</td>\n",
       "    </tr>\n",
       "  </tbody>\n",
       "</table>\n",
       "<p>814 rows × 6 columns</p>\n",
       "</div>"
      ],
      "text/plain": [
       "                City  Beds  Baths  SquareFeet      Price  CityLabel\n",
       "0         SACRAMENTO     2      1         836  138159.85         31\n",
       "1         SACRAMENTO     3      1        1167  167541.46         31\n",
       "2         SACRAMENTO     2      1         796  119095.12         31\n",
       "3         SACRAMENTO     2      1         852  130904.95         31\n",
       "4         SACRAMENTO     2      1         797  120266.19         31\n",
       "..               ...   ...    ...         ...        ...        ...\n",
       "809       SACRAMENTO     4      3        2280  308248.47         31\n",
       "810       SACRAMENTO     3      2        1477  212857.63         31\n",
       "811   CITRUS HEIGHTS     3      2        1216  181746.98          4\n",
       "812        ELK GROVE     4      2        1685  245385.59          9\n",
       "813  EL DORADO HILLS     3      2        1362  263355.13          8\n",
       "\n",
       "[814 rows x 6 columns]"
      ]
     },
     "execution_count": 94,
     "metadata": {},
     "output_type": "execute_result"
    }
   ],
   "source": [
    "data"
   ]
  },
  {
   "cell_type": "code",
   "execution_count": 95,
   "id": "scenic-possible",
   "metadata": {},
   "outputs": [],
   "source": [
    "data.drop(['City'], inplace = True, axis = 1)"
   ]
  },
  {
   "cell_type": "code",
   "execution_count": 96,
   "id": "confirmed-travel",
   "metadata": {
    "tags": []
   },
   "outputs": [
    {
     "data": {
      "text/html": [
       "<div>\n",
       "<style scoped>\n",
       "    .dataframe tbody tr th:only-of-type {\n",
       "        vertical-align: middle;\n",
       "    }\n",
       "\n",
       "    .dataframe tbody tr th {\n",
       "        vertical-align: top;\n",
       "    }\n",
       "\n",
       "    .dataframe thead th {\n",
       "        text-align: right;\n",
       "    }\n",
       "</style>\n",
       "<table border=\"1\" class=\"dataframe\">\n",
       "  <thead>\n",
       "    <tr style=\"text-align: right;\">\n",
       "      <th></th>\n",
       "      <th>Beds</th>\n",
       "      <th>Baths</th>\n",
       "      <th>SquareFeet</th>\n",
       "      <th>Price</th>\n",
       "      <th>CityLabel</th>\n",
       "    </tr>\n",
       "  </thead>\n",
       "  <tbody>\n",
       "    <tr>\n",
       "      <th>0</th>\n",
       "      <td>2</td>\n",
       "      <td>1</td>\n",
       "      <td>836</td>\n",
       "      <td>138159.85</td>\n",
       "      <td>31</td>\n",
       "    </tr>\n",
       "    <tr>\n",
       "      <th>1</th>\n",
       "      <td>3</td>\n",
       "      <td>1</td>\n",
       "      <td>1167</td>\n",
       "      <td>167541.46</td>\n",
       "      <td>31</td>\n",
       "    </tr>\n",
       "    <tr>\n",
       "      <th>2</th>\n",
       "      <td>2</td>\n",
       "      <td>1</td>\n",
       "      <td>796</td>\n",
       "      <td>119095.12</td>\n",
       "      <td>31</td>\n",
       "    </tr>\n",
       "    <tr>\n",
       "      <th>3</th>\n",
       "      <td>2</td>\n",
       "      <td>1</td>\n",
       "      <td>852</td>\n",
       "      <td>130904.95</td>\n",
       "      <td>31</td>\n",
       "    </tr>\n",
       "    <tr>\n",
       "      <th>4</th>\n",
       "      <td>2</td>\n",
       "      <td>1</td>\n",
       "      <td>797</td>\n",
       "      <td>120266.19</td>\n",
       "      <td>31</td>\n",
       "    </tr>\n",
       "    <tr>\n",
       "      <th>...</th>\n",
       "      <td>...</td>\n",
       "      <td>...</td>\n",
       "      <td>...</td>\n",
       "      <td>...</td>\n",
       "      <td>...</td>\n",
       "    </tr>\n",
       "    <tr>\n",
       "      <th>809</th>\n",
       "      <td>4</td>\n",
       "      <td>3</td>\n",
       "      <td>2280</td>\n",
       "      <td>308248.47</td>\n",
       "      <td>31</td>\n",
       "    </tr>\n",
       "    <tr>\n",
       "      <th>810</th>\n",
       "      <td>3</td>\n",
       "      <td>2</td>\n",
       "      <td>1477</td>\n",
       "      <td>212857.63</td>\n",
       "      <td>31</td>\n",
       "    </tr>\n",
       "    <tr>\n",
       "      <th>811</th>\n",
       "      <td>3</td>\n",
       "      <td>2</td>\n",
       "      <td>1216</td>\n",
       "      <td>181746.98</td>\n",
       "      <td>4</td>\n",
       "    </tr>\n",
       "    <tr>\n",
       "      <th>812</th>\n",
       "      <td>4</td>\n",
       "      <td>2</td>\n",
       "      <td>1685</td>\n",
       "      <td>245385.59</td>\n",
       "      <td>9</td>\n",
       "    </tr>\n",
       "    <tr>\n",
       "      <th>813</th>\n",
       "      <td>3</td>\n",
       "      <td>2</td>\n",
       "      <td>1362</td>\n",
       "      <td>263355.13</td>\n",
       "      <td>8</td>\n",
       "    </tr>\n",
       "  </tbody>\n",
       "</table>\n",
       "<p>814 rows × 5 columns</p>\n",
       "</div>"
      ],
      "text/plain": [
       "     Beds  Baths  SquareFeet      Price  CityLabel\n",
       "0       2      1         836  138159.85         31\n",
       "1       3      1        1167  167541.46         31\n",
       "2       2      1         796  119095.12         31\n",
       "3       2      1         852  130904.95         31\n",
       "4       2      1         797  120266.19         31\n",
       "..    ...    ...         ...        ...        ...\n",
       "809     4      3        2280  308248.47         31\n",
       "810     3      2        1477  212857.63         31\n",
       "811     3      2        1216  181746.98          4\n",
       "812     4      2        1685  245385.59          9\n",
       "813     3      2        1362  263355.13          8\n",
       "\n",
       "[814 rows x 5 columns]"
      ]
     },
     "execution_count": 96,
     "metadata": {},
     "output_type": "execute_result"
    }
   ],
   "source": [
    "data"
   ]
  },
  {
   "cell_type": "code",
   "execution_count": 97,
   "id": "protected-glass",
   "metadata": {},
   "outputs": [
    {
     "data": {
      "text/plain": [
       "['Beds', 'Baths', 'SquareFeet', 'Price', 'CityLabel']"
      ]
     },
     "execution_count": 97,
     "metadata": {},
     "output_type": "execute_result"
    }
   ],
   "source": [
    "data.columns.to_list()"
   ]
  },
  {
   "cell_type": "code",
   "execution_count": 98,
   "id": "aquatic-lounge",
   "metadata": {
    "tags": []
   },
   "outputs": [],
   "source": [
    "x = data[['Beds', 'Baths', 'SquareFeet']]\n",
    "scaling = StandardScaler()\n",
    "X = scaling.fit_transform(x)\n",
    "y = data['Price']"
   ]
  },
  {
   "cell_type": "code",
   "execution_count": 99,
   "id": "assured-smoke",
   "metadata": {
    "tags": []
   },
   "outputs": [
    {
     "data": {
      "text/html": [
       "<div>\n",
       "<style scoped>\n",
       "    .dataframe tbody tr th:only-of-type {\n",
       "        vertical-align: middle;\n",
       "    }\n",
       "\n",
       "    .dataframe tbody tr th {\n",
       "        vertical-align: top;\n",
       "    }\n",
       "\n",
       "    .dataframe thead th {\n",
       "        text-align: right;\n",
       "    }\n",
       "</style>\n",
       "<table border=\"1\" class=\"dataframe\">\n",
       "  <thead>\n",
       "    <tr style=\"text-align: right;\">\n",
       "      <th></th>\n",
       "      <th>Beds</th>\n",
       "      <th>Baths</th>\n",
       "      <th>SquareFeet</th>\n",
       "      <th>Price</th>\n",
       "      <th>CityLabel</th>\n",
       "    </tr>\n",
       "  </thead>\n",
       "  <tbody>\n",
       "    <tr>\n",
       "      <th>0</th>\n",
       "      <td>2</td>\n",
       "      <td>1</td>\n",
       "      <td>836</td>\n",
       "      <td>138159.85</td>\n",
       "      <td>31</td>\n",
       "    </tr>\n",
       "    <tr>\n",
       "      <th>1</th>\n",
       "      <td>3</td>\n",
       "      <td>1</td>\n",
       "      <td>1167</td>\n",
       "      <td>167541.46</td>\n",
       "      <td>31</td>\n",
       "    </tr>\n",
       "  </tbody>\n",
       "</table>\n",
       "</div>"
      ],
      "text/plain": [
       "   Beds  Baths  SquareFeet      Price  CityLabel\n",
       "0     2      1         836  138159.85         31\n",
       "1     3      1        1167  167541.46         31"
      ]
     },
     "execution_count": 99,
     "metadata": {},
     "output_type": "execute_result"
    }
   ],
   "source": [
    "data.head(2)"
   ]
  },
  {
   "cell_type": "code",
   "execution_count": 100,
   "id": "tropical-bible",
   "metadata": {
    "tags": []
   },
   "outputs": [
    {
     "data": {
      "text/plain": [
       "<AxesSubplot:xlabel='CityLabel', ylabel='Price'>"
      ]
     },
     "execution_count": 100,
     "metadata": {},
     "output_type": "execute_result"
    },
    {
     "data": {
      "image/png": "[encoded data removed]",
      "text/plain": [
       "<Figure size 432x288 with 1 Axes>"
      ]
     },
     "metadata": {
      "needs_background": "light"
     },
     "output_type": "display_data"
    }
   ],
   "source": [
    "sns.regplot(x='CityLabel',y='Price',data=data)"
   ]
  },
  {
   "cell_type": "code",
   "execution_count": 101,
   "id": "adequate-bleeding",
   "metadata": {
    "tags": []
   },
   "outputs": [
    {
     "data": {
      "text/plain": [
       "<AxesSubplot:>"
      ]
     },
     "execution_count": 101,
     "metadata": {},
     "output_type": "execute_result"
    },
    {
     "data": {
      "image/png": "[encoded data removed]",
      "text/plain": [
       "<Figure size 432x288 with 1 Axes>"
      ]
     },
     "metadata": {
      "needs_background": "light"
     },
     "output_type": "display_data"
    }
   ],
   "source": [
    "data.corrwith(data['Price']).plot(kind='bar')"
   ]
  },
  {
   "cell_type": "code",
   "execution_count": 102,
   "id": "earned-triumph",
   "metadata": {},
   "outputs": [],
   "source": [
    "# xtest, ytest, xtrain, ytrain = train_test_split(x,y,test_size=.2)"
   ]
  },
  {
   "cell_type": "code",
   "execution_count": 142,
   "id": "clean-surname",
   "metadata": {},
   "outputs": [
    {
     "data": {
      "text/plain": [
       "69.71848962342989"
      ]
     },
     "execution_count": 142,
     "metadata": {},
     "output_type": "execute_result"
    }
   ],
   "source": [
    "re = cross_val_score(LinearRegression(), x, y, cv = 5)\n",
    "re.mean() * 100"
   ]
  },
  {
   "cell_type": "code",
   "execution_count": 143,
   "id": "regulated-filing",
   "metadata": {},
   "outputs": [
    {
     "data": {
      "text/plain": [
       "53.69510076023509"
      ]
     },
     "execution_count": 143,
     "metadata": {},
     "output_type": "execute_result"
    }
   ],
   "source": [
    "re = cross_val_score(DecisionTreeRegressor(), x, y, cv = 5)\n",
    "re.mean() * 100"
   ]
  },
  {
   "cell_type": "code",
   "execution_count": 144,
   "id": "biological-decision",
   "metadata": {},
   "outputs": [
    {
     "data": {
      "text/plain": [
       "65.72532936049585"
      ]
     },
     "execution_count": 144,
     "metadata": {},
     "output_type": "execute_result"
    }
   ],
   "source": [
    "re = cross_val_score(RandomForestRegressor(), x, y, cv = 5)\n",
    "re.mean() * 100"
   ]
  },
  {
   "cell_type": "code",
   "execution_count": 145,
   "id": "excess-helen",
   "metadata": {},
   "outputs": [
    {
     "data": {
      "text/plain": [
       "70.11065508552157"
      ]
     },
     "execution_count": 145,
     "metadata": {},
     "output_type": "execute_result"
    }
   ],
   "source": [
    "re = cross_val_score(KNeighborsRegressor(), x, y, cv = 5)\n",
    "re.mean() * 100"
   ]
  },
  {
   "cell_type": "code",
   "execution_count": 146,
   "id": "veterinary-storm",
   "metadata": {},
   "outputs": [
    {
     "data": {
      "text/plain": [
       "-7.2963006820341265"
      ]
     },
     "execution_count": 146,
     "metadata": {},
     "output_type": "execute_result"
    }
   ],
   "source": [
    "re = cross_val_score(SVR(), x, y, cv = 5)\n",
    "re.mean() * 100"
   ]
  },
  {
   "cell_type": "code",
   "execution_count": 147,
   "id": "missing-eleven",
   "metadata": {
    "tags": []
   },
   "outputs": [
    {
     "data": {
      "text/plain": [
       "\u001b[0;31mInit signature:\u001b[0m\n",
       "\u001b[0mKNeighborsRegressor\u001b[0m\u001b[0;34m(\u001b[0m\u001b[0;34m\u001b[0m\n",
       "\u001b[0;34m\u001b[0m    \u001b[0mn_neighbors\u001b[0m\u001b[0;34m=\u001b[0m\u001b[0;36m5\u001b[0m\u001b[0;34m,\u001b[0m\u001b[0;34m\u001b[0m\n",
       "\u001b[0;34m\u001b[0m    \u001b[0;34m*\u001b[0m\u001b[0;34m,\u001b[0m\u001b[0;34m\u001b[0m\n",
       "\u001b[0;34m\u001b[0m    \u001b[0mweights\u001b[0m\u001b[0;34m=\u001b[0m\u001b[0;34m'uniform'\u001b[0m\u001b[0;34m,\u001b[0m\u001b[0;34m\u001b[0m\n",
       "\u001b[0;34m\u001b[0m    \u001b[0malgorithm\u001b[0m\u001b[0;34m=\u001b[0m\u001b[0;34m'auto'\u001b[0m\u001b[0;34m,\u001b[0m\u001b[0;34m\u001b[0m\n",
       "\u001b[0;34m\u001b[0m    \u001b[0mleaf_size\u001b[0m\u001b[0;34m=\u001b[0m\u001b[0;36m30\u001b[0m\u001b[0;34m,\u001b[0m\u001b[0;34m\u001b[0m\n",
       "\u001b[0;34m\u001b[0m    \u001b[0mp\u001b[0m\u001b[0;34m=\u001b[0m\u001b[0;36m2\u001b[0m\u001b[0;34m,\u001b[0m\u001b[0;34m\u001b[0m\n",
       "\u001b[0;34m\u001b[0m    \u001b[0mmetric\u001b[0m\u001b[0;34m=\u001b[0m\u001b[0;34m'minkowski'\u001b[0m\u001b[0;34m,\u001b[0m\u001b[0;34m\u001b[0m\n",
       "\u001b[0;34m\u001b[0m    \u001b[0mmetric_params\u001b[0m\u001b[0;34m=\u001b[0m\u001b[0;32mNone\u001b[0m\u001b[0;34m,\u001b[0m\u001b[0;34m\u001b[0m\n",
       "\u001b[0;34m\u001b[0m    \u001b[0mn_jobs\u001b[0m\u001b[0;34m=\u001b[0m\u001b[0;32mNone\u001b[0m\u001b[0;34m,\u001b[0m\u001b[0;34m\u001b[0m\n",
       "\u001b[0;34m\u001b[0m    \u001b[0;34m**\u001b[0m\u001b[0mkwargs\u001b[0m\u001b[0;34m,\u001b[0m\u001b[0;34m\u001b[0m\n",
       "\u001b[0;34m\u001b[0m\u001b[0;34m)\u001b[0m\u001b[0;34m\u001b[0m\u001b[0;34m\u001b[0m\u001b[0m\n",
       "\u001b[0;31mDocstring:\u001b[0m     \n",
       "Regression based on k-nearest neighbors.\n",
       "\n",
       "The target is predicted by local interpolation of the targets\n",
       "associated of the nearest neighbors in the training set.\n",
       "\n",
       "Read more in the :ref:`User Guide <regression>`.\n",
       "\n",
       ".. versionadded:: 0.9\n",
       "\n",
       "Parameters\n",
       "----------\n",
       "n_neighbors : int, default=5\n",
       "    Number of neighbors to use by default for :meth:`kneighbors` queries.\n",
       "\n",
       "weights : {'uniform', 'distance'} or callable, default='uniform'\n",
       "    weight function used in prediction.  Possible values:\n",
       "\n",
       "    - 'uniform' : uniform weights.  All points in each neighborhood\n",
       "      are weighted equally.\n",
       "    - 'distance' : weight points by the inverse of their distance.\n",
       "      in this case, closer neighbors of a query point will have a\n",
       "      greater influence than neighbors which are further away.\n",
       "    - [callable] : a user-defined function which accepts an\n",
       "      array of distances, and returns an array of the same shape\n",
       "      containing the weights.\n",
       "\n",
       "    Uniform weights are used by default.\n",
       "\n",
       "algorithm : {'auto', 'ball_tree', 'kd_tree', 'brute'}, default='auto'\n",
       "    Algorithm used to compute the nearest neighbors:\n",
       "\n",
       "    - 'ball_tree' will use :class:`BallTree`\n",
       "    - 'kd_tree' will use :class:`KDTree`\n",
       "    - 'brute' will use a brute-force search.\n",
       "    - 'auto' will attempt to decide the most appropriate algorithm\n",
       "      based on the values passed to :meth:`fit` method.\n",
       "\n",
       "    Note: fitting on sparse input will override the setting of\n",
       "    this parameter, using brute force.\n",
       "\n",
       "leaf_size : int, default=30\n",
       "    Leaf size passed to BallTree or KDTree.  This can affect the\n",
       "    speed of the construction and query, as well as the memory\n",
       "    required to store the tree.  The optimal value depends on the\n",
       "    nature of the problem.\n",
       "\n",
       "p : int, default=2\n",
       "    Power parameter for the Minkowski metric. When p = 1, this is\n",
       "    equivalent to using manhattan_distance (l1), and euclidean_distance\n",
       "    (l2) for p = 2. For arbitrary p, minkowski_distance (l_p) is used.\n",
       "\n",
       "metric : str or callable, default='minkowski'\n",
       "    the distance metric to use for the tree.  The default metric is\n",
       "    minkowski, and with p=2 is equivalent to the standard Euclidean\n",
       "    metric. See the documentation of :class:`DistanceMetric` for a\n",
       "    list of available metrics.\n",
       "    If metric is \"precomputed\", X is assumed to be a distance matrix and\n",
       "    must be square during fit. X may be a :term:`sparse graph`,\n",
       "    in which case only \"nonzero\" elements may be considered neighbors.\n",
       "\n",
       "metric_params : dict, default=None\n",
       "    Additional keyword arguments for the metric function.\n",
       "\n",
       "n_jobs : int, default=None\n",
       "    The number of parallel jobs to run for neighbors search.\n",
       "    ``None`` means 1 unless in a :obj:`joblib.parallel_backend` context.\n",
       "    ``-1`` means using all processors. See :term:`Glossary <n_jobs>`\n",
       "    for more details.\n",
       "    Doesn't affect :meth:`fit` method.\n",
       "\n",
       "Attributes\n",
       "----------\n",
       "effective_metric_ : str or callable\n",
       "    The distance metric to use. It will be same as the `metric` parameter\n",
       "    or a synonym of it, e.g. 'euclidean' if the `metric` parameter set to\n",
       "    'minkowski' and `p` parameter set to 2.\n",
       "\n",
       "effective_metric_params_ : dict\n",
       "    Additional keyword arguments for the metric function. For most metrics\n",
       "    will be same with `metric_params` parameter, but may also contain the\n",
       "    `p` parameter value if the `effective_metric_` attribute is set to\n",
       "    'minkowski'.\n",
       "\n",
       "Examples\n",
       "--------\n",
       ">>> X = [[0], [1], [2], [3]]\n",
       ">>> y = [0, 0, 1, 1]\n",
       ">>> from sklearn.neighbors import KNeighborsRegressor\n",
       ">>> neigh = KNeighborsRegressor(n_neighbors=2)\n",
       ">>> neigh.fit(X, y)\n",
       "KNeighborsRegressor(...)\n",
       ">>> print(neigh.predict([[1.5]]))\n",
       "[0.5]\n",
       "\n",
       "See also\n",
       "--------\n",
       "NearestNeighbors\n",
       "RadiusNeighborsRegressor\n",
       "KNeighborsClassifier\n",
       "RadiusNeighborsClassifier\n",
       "\n",
       "Notes\n",
       "-----\n",
       "See :ref:`Nearest Neighbors <neighbors>` in the online documentation\n",
       "for a discussion of the choice of ``algorithm`` and ``leaf_size``.\n",
       "\n",
       ".. warning::\n",
       "\n",
       "   Regarding the Nearest Neighbors algorithms, if it is found that two\n",
       "   neighbors, neighbor `k+1` and `k`, have identical distances but\n",
       "   different labels, the results will depend on the ordering of the\n",
       "   training data.\n",
       "\n",
       "https://en.wikipedia.org/wiki/K-nearest_neighbor_algorithm\n",
       "\u001b[0;31mFile:\u001b[0m           ~/.local/lib/python3.8/site-packages/sklearn/neighbors/_regression.py\n",
       "\u001b[0;31mType:\u001b[0m           ABCMeta\n",
       "\u001b[0;31mSubclasses:\u001b[0m     \n"
      ]
     },
     "metadata": {},
     "output_type": "display_data"
    }
   ],
   "source": [
    "KNeighborsRegressor?"
   ]
  },
  {
   "cell_type": "code",
   "execution_count": 177,
   "id": "owned-accreditation",
   "metadata": {},
   "outputs": [],
   "source": [
    "params = {\n",
    "    'n_neighbors':[5,10,15,20,25,45,75],\n",
    "    'weights':['uniform','distance'],\n",
    "    'algorithm':['auto', 'ball_tree', 'kd_tree', 'brute'],\n",
    "    'leaf_size':[40,50,50,80],\n",
    "    'p':[1,2]\n",
    "}\n",
    "model = KNeighborsRegressor()\n",
    "grid = GridSearchCV(model, params, cv=3, n_jobs=-1, verbose=True)"
   ]
  },
  {
   "cell_type": "code",
   "execution_count": 178,
   "id": "blocked-despite",
   "metadata": {},
   "outputs": [
    {
     "data": {
      "text/plain": [
       "GridSearchCV(cv=3, estimator=KNeighborsRegressor(), n_jobs=-1,\n",
       "             param_grid={'algorithm': ['auto', 'ball_tree', 'kd_tree', 'brute'],\n",
       "                         'leaf_size': [40, 50, 50, 80],\n",
       "                         'n_neighbors': [5, 10, 15, 20, 25, 45, 75],\n",
       "                         'p': [1, 2], 'weights': ['uniform', 'distance']},\n",
       "             verbose=True)"
      ]
     },
     "execution_count": 178,
     "metadata": {},
     "output_type": "execute_result"
    }
   ],
   "source": [
    "grid"
   ]
  },
  {
   "cell_type": "code",
   "execution_count": 188,
   "id": "signed-guitar",
   "metadata": {},
   "outputs": [
    {
     "name": "stdout",
     "output_type": "stream",
     "text": [
      "Fitting 3 folds for each of 448 candidates, totalling 1344 fits\n"
     ]
    },
    {
     "name": "stderr",
     "output_type": "stream",
     "text": [
      "[Parallel(n_jobs=-1)]: Using backend LokyBackend with 4 concurrent workers.\n",
      "[Parallel(n_jobs=-1)]: Done 312 tasks      | elapsed:    1.1s\n",
      "[Parallel(n_jobs=-1)]: Done 1344 out of 1344 | elapsed:    4.0s finished\n"
     ]
    },
    {
     "data": {
      "text/plain": [
       "GridSearchCV(cv=3, estimator=KNeighborsRegressor(), n_jobs=-1,\n",
       "             param_grid={'algorithm': ['auto', 'ball_tree', 'kd_tree', 'brute'],\n",
       "                         'leaf_size': [40, 50, 50, 80],\n",
       "                         'n_neighbors': [5, 10, 15, 20, 25, 45, 75],\n",
       "                         'p': [1, 2], 'weights': ['uniform', 'distance']},\n",
       "             verbose=True)"
      ]
     },
     "execution_count": 188,
     "metadata": {},
     "output_type": "execute_result"
    }
   ],
   "source": [
    "grid.fit(x,y)"
   ]
  },
  {
   "cell_type": "code",
   "execution_count": 180,
   "id": "pediatric-valuable",
   "metadata": {
    "collapsed": true,
    "jupyter": {
     "outputs_hidden": true
    },
    "tags": []
   },
   "outputs": [
    {
     "data": {
      "text/html": [
       "<div>\n",
       "<style scoped>\n",
       "    .dataframe tbody tr th:only-of-type {\n",
       "        vertical-align: middle;\n",
       "    }\n",
       "\n",
       "    .dataframe tbody tr th {\n",
       "        vertical-align: top;\n",
       "    }\n",
       "\n",
       "    .dataframe thead th {\n",
       "        text-align: right;\n",
       "    }\n",
       "</style>\n",
       "<table border=\"1\" class=\"dataframe\">\n",
       "  <thead>\n",
       "    <tr style=\"text-align: right;\">\n",
       "      <th></th>\n",
       "      <th>mean_fit_time</th>\n",
       "      <th>std_fit_time</th>\n",
       "      <th>mean_score_time</th>\n",
       "      <th>std_score_time</th>\n",
       "      <th>param_algorithm</th>\n",
       "      <th>param_leaf_size</th>\n",
       "      <th>param_n_neighbors</th>\n",
       "      <th>param_p</th>\n",
       "      <th>param_weights</th>\n",
       "      <th>params</th>\n",
       "      <th>split0_test_score</th>\n",
       "      <th>split1_test_score</th>\n",
       "      <th>split2_test_score</th>\n",
       "      <th>mean_test_score</th>\n",
       "      <th>std_test_score</th>\n",
       "      <th>rank_test_score</th>\n",
       "    </tr>\n",
       "  </thead>\n",
       "  <tbody>\n",
       "    <tr>\n",
       "      <th>0</th>\n",
       "      <td>0.004745</td>\n",
       "      <td>0.000666</td>\n",
       "      <td>0.012134</td>\n",
       "      <td>0.005967</td>\n",
       "      <td>auto</td>\n",
       "      <td>40</td>\n",
       "      <td>5</td>\n",
       "      <td>1</td>\n",
       "      <td>uniform</td>\n",
       "      <td>{'algorithm': 'auto', 'leaf_size': 40, 'n_neig...</td>\n",
       "      <td>0.777399</td>\n",
       "      <td>0.763862</td>\n",
       "      <td>0.615969</td>\n",
       "      <td>0.719077</td>\n",
       "      <td>0.073117</td>\n",
       "      <td>340</td>\n",
       "    </tr>\n",
       "    <tr>\n",
       "      <th>1</th>\n",
       "      <td>0.007031</td>\n",
       "      <td>0.001467</td>\n",
       "      <td>0.006904</td>\n",
       "      <td>0.001682</td>\n",
       "      <td>auto</td>\n",
       "      <td>40</td>\n",
       "      <td>5</td>\n",
       "      <td>1</td>\n",
       "      <td>distance</td>\n",
       "      <td>{'algorithm': 'auto', 'leaf_size': 40, 'n_neig...</td>\n",
       "      <td>0.759466</td>\n",
       "      <td>0.747095</td>\n",
       "      <td>0.592653</td>\n",
       "      <td>0.699738</td>\n",
       "      <td>0.075889</td>\n",
       "      <td>420</td>\n",
       "    </tr>\n",
       "    <tr>\n",
       "      <th>2</th>\n",
       "      <td>0.005399</td>\n",
       "      <td>0.000908</td>\n",
       "      <td>0.005412</td>\n",
       "      <td>0.000756</td>\n",
       "      <td>auto</td>\n",
       "      <td>40</td>\n",
       "      <td>5</td>\n",
       "      <td>2</td>\n",
       "      <td>uniform</td>\n",
       "      <td>{'algorithm': 'auto', 'leaf_size': 40, 'n_neig...</td>\n",
       "      <td>0.778737</td>\n",
       "      <td>0.758295</td>\n",
       "      <td>0.613167</td>\n",
       "      <td>0.716733</td>\n",
       "      <td>0.073706</td>\n",
       "      <td>376</td>\n",
       "    </tr>\n",
       "    <tr>\n",
       "      <th>3</th>\n",
       "      <td>0.008910</td>\n",
       "      <td>0.006956</td>\n",
       "      <td>0.006911</td>\n",
       "      <td>0.004052</td>\n",
       "      <td>auto</td>\n",
       "      <td>40</td>\n",
       "      <td>5</td>\n",
       "      <td>2</td>\n",
       "      <td>distance</td>\n",
       "      <td>{'algorithm': 'auto', 'leaf_size': 40, 'n_neig...</td>\n",
       "      <td>0.762747</td>\n",
       "      <td>0.745340</td>\n",
       "      <td>0.589093</td>\n",
       "      <td>0.699060</td>\n",
       "      <td>0.078083</td>\n",
       "      <td>433</td>\n",
       "    </tr>\n",
       "    <tr>\n",
       "      <th>4</th>\n",
       "      <td>0.004393</td>\n",
       "      <td>0.000140</td>\n",
       "      <td>0.004349</td>\n",
       "      <td>0.000146</td>\n",
       "      <td>auto</td>\n",
       "      <td>40</td>\n",
       "      <td>10</td>\n",
       "      <td>1</td>\n",
       "      <td>uniform</td>\n",
       "      <td>{'algorithm': 'auto', 'leaf_size': 40, 'n_neig...</td>\n",
       "      <td>0.787298</td>\n",
       "      <td>0.765025</td>\n",
       "      <td>0.624616</td>\n",
       "      <td>0.725647</td>\n",
       "      <td>0.072015</td>\n",
       "      <td>245</td>\n",
       "    </tr>\n",
       "    <tr>\n",
       "      <th>...</th>\n",
       "      <td>...</td>\n",
       "      <td>...</td>\n",
       "      <td>...</td>\n",
       "      <td>...</td>\n",
       "      <td>...</td>\n",
       "      <td>...</td>\n",
       "      <td>...</td>\n",
       "      <td>...</td>\n",
       "      <td>...</td>\n",
       "      <td>...</td>\n",
       "      <td>...</td>\n",
       "      <td>...</td>\n",
       "      <td>...</td>\n",
       "      <td>...</td>\n",
       "      <td>...</td>\n",
       "      <td>...</td>\n",
       "    </tr>\n",
       "    <tr>\n",
       "      <th>443</th>\n",
       "      <td>0.003851</td>\n",
       "      <td>0.000122</td>\n",
       "      <td>0.010740</td>\n",
       "      <td>0.001165</td>\n",
       "      <td>brute</td>\n",
       "      <td>80</td>\n",
       "      <td>45</td>\n",
       "      <td>2</td>\n",
       "      <td>distance</td>\n",
       "      <td>{'algorithm': 'brute', 'leaf_size': 80, 'n_nei...</td>\n",
       "      <td>0.810043</td>\n",
       "      <td>0.745601</td>\n",
       "      <td>0.646479</td>\n",
       "      <td>0.734041</td>\n",
       "      <td>0.067273</td>\n",
       "      <td>184</td>\n",
       "    </tr>\n",
       "    <tr>\n",
       "      <th>444</th>\n",
       "      <td>0.003708</td>\n",
       "      <td>0.000186</td>\n",
       "      <td>0.010620</td>\n",
       "      <td>0.001155</td>\n",
       "      <td>brute</td>\n",
       "      <td>80</td>\n",
       "      <td>75</td>\n",
       "      <td>1</td>\n",
       "      <td>uniform</td>\n",
       "      <td>{'algorithm': 'brute', 'leaf_size': 80, 'n_nei...</td>\n",
       "      <td>0.832178</td>\n",
       "      <td>0.687108</td>\n",
       "      <td>0.646081</td>\n",
       "      <td>0.721789</td>\n",
       "      <td>0.079834</td>\n",
       "      <td>298</td>\n",
       "    </tr>\n",
       "    <tr>\n",
       "      <th>445</th>\n",
       "      <td>0.003665</td>\n",
       "      <td>0.000143</td>\n",
       "      <td>0.010053</td>\n",
       "      <td>0.000215</td>\n",
       "      <td>brute</td>\n",
       "      <td>80</td>\n",
       "      <td>75</td>\n",
       "      <td>1</td>\n",
       "      <td>distance</td>\n",
       "      <td>{'algorithm': 'brute', 'leaf_size': 80, 'n_nei...</td>\n",
       "      <td>0.820610</td>\n",
       "      <td>0.729707</td>\n",
       "      <td>0.657116</td>\n",
       "      <td>0.735811</td>\n",
       "      <td>0.066885</td>\n",
       "      <td>129</td>\n",
       "    </tr>\n",
       "    <tr>\n",
       "      <th>446</th>\n",
       "      <td>0.004147</td>\n",
       "      <td>0.000436</td>\n",
       "      <td>0.011266</td>\n",
       "      <td>0.000952</td>\n",
       "      <td>brute</td>\n",
       "      <td>80</td>\n",
       "      <td>75</td>\n",
       "      <td>2</td>\n",
       "      <td>uniform</td>\n",
       "      <td>{'algorithm': 'brute', 'leaf_size': 80, 'n_nei...</td>\n",
       "      <td>0.832052</td>\n",
       "      <td>0.687026</td>\n",
       "      <td>0.646120</td>\n",
       "      <td>0.721733</td>\n",
       "      <td>0.079775</td>\n",
       "      <td>308</td>\n",
       "    </tr>\n",
       "    <tr>\n",
       "      <th>447</th>\n",
       "      <td>0.008883</td>\n",
       "      <td>0.006447</td>\n",
       "      <td>0.008813</td>\n",
       "      <td>0.000845</td>\n",
       "      <td>brute</td>\n",
       "      <td>80</td>\n",
       "      <td>75</td>\n",
       "      <td>2</td>\n",
       "      <td>distance</td>\n",
       "      <td>{'algorithm': 'brute', 'leaf_size': 80, 'n_nei...</td>\n",
       "      <td>0.819543</td>\n",
       "      <td>0.729846</td>\n",
       "      <td>0.655776</td>\n",
       "      <td>0.735055</td>\n",
       "      <td>0.066959</td>\n",
       "      <td>145</td>\n",
       "    </tr>\n",
       "  </tbody>\n",
       "</table>\n",
       "<p>448 rows × 16 columns</p>\n",
       "</div>"
      ],
      "text/plain": [
       "     mean_fit_time  std_fit_time  mean_score_time  std_score_time  \\\n",
       "0         0.004745      0.000666         0.012134        0.005967   \n",
       "1         0.007031      0.001467         0.006904        0.001682   \n",
       "2         0.005399      0.000908         0.005412        0.000756   \n",
       "3         0.008910      0.006956         0.006911        0.004052   \n",
       "4         0.004393      0.000140         0.004349        0.000146   \n",
       "..             ...           ...              ...             ...   \n",
       "443       0.003851      0.000122         0.010740        0.001165   \n",
       "444       0.003708      0.000186         0.010620        0.001155   \n",
       "445       0.003665      0.000143         0.010053        0.000215   \n",
       "446       0.004147      0.000436         0.011266        0.000952   \n",
       "447       0.008883      0.006447         0.008813        0.000845   \n",
       "\n",
       "    param_algorithm param_leaf_size param_n_neighbors param_p param_weights  \\\n",
       "0              auto              40                 5       1       uniform   \n",
       "1              auto              40                 5       1      distance   \n",
       "2              auto              40                 5       2       uniform   \n",
       "3              auto              40                 5       2      distance   \n",
       "4              auto              40                10       1       uniform   \n",
       "..              ...             ...               ...     ...           ...   \n",
       "443           brute              80                45       2      distance   \n",
       "444           brute              80                75       1       uniform   \n",
       "445           brute              80                75       1      distance   \n",
       "446           brute              80                75       2       uniform   \n",
       "447           brute              80                75       2      distance   \n",
       "\n",
       "                                                params  split0_test_score  \\\n",
       "0    {'algorithm': 'auto', 'leaf_size': 40, 'n_neig...           0.777399   \n",
       "1    {'algorithm': 'auto', 'leaf_size': 40, 'n_neig...           0.759466   \n",
       "2    {'algorithm': 'auto', 'leaf_size': 40, 'n_neig...           0.778737   \n",
       "3    {'algorithm': 'auto', 'leaf_size': 40, 'n_neig...           0.762747   \n",
       "4    {'algorithm': 'auto', 'leaf_size': 40, 'n_neig...           0.787298   \n",
       "..                                                 ...                ...   \n",
       "443  {'algorithm': 'brute', 'leaf_size': 80, 'n_nei...           0.810043   \n",
       "444  {'algorithm': 'brute', 'leaf_size': 80, 'n_nei...           0.832178   \n",
       "445  {'algorithm': 'brute', 'leaf_size': 80, 'n_nei...           0.820610   \n",
       "446  {'algorithm': 'brute', 'leaf_size': 80, 'n_nei...           0.832052   \n",
       "447  {'algorithm': 'brute', 'leaf_size': 80, 'n_nei...           0.819543   \n",
       "\n",
       "     split1_test_score  split2_test_score  mean_test_score  std_test_score  \\\n",
       "0             0.763862           0.615969         0.719077        0.073117   \n",
       "1             0.747095           0.592653         0.699738        0.075889   \n",
       "2             0.758295           0.613167         0.716733        0.073706   \n",
       "3             0.745340           0.589093         0.699060        0.078083   \n",
       "4             0.765025           0.624616         0.725647        0.072015   \n",
       "..                 ...                ...              ...             ...   \n",
       "443           0.745601           0.646479         0.734041        0.067273   \n",
       "444           0.687108           0.646081         0.721789        0.079834   \n",
       "445           0.729707           0.657116         0.735811        0.066885   \n",
       "446           0.687026           0.646120         0.721733        0.079775   \n",
       "447           0.729846           0.655776         0.735055        0.066959   \n",
       "\n",
       "     rank_test_score  \n",
       "0                340  \n",
       "1                420  \n",
       "2                376  \n",
       "3                433  \n",
       "4                245  \n",
       "..               ...  \n",
       "443              184  \n",
       "444              298  \n",
       "445              129  \n",
       "446              308  \n",
       "447              145  \n",
       "\n",
       "[448 rows x 16 columns]"
      ]
     },
     "execution_count": 180,
     "metadata": {},
     "output_type": "execute_result"
    }
   ],
   "source": [
    "df  = pd.DataFrame(grid.cv_results_)\n",
    "df"
   ]
  },
  {
   "cell_type": "code",
   "execution_count": 181,
   "id": "editorial-continent",
   "metadata": {},
   "outputs": [
    {
     "data": {
      "text/plain": [
       "KNeighborsRegressor(algorithm='brute', leaf_size=40, n_neighbors=25)"
      ]
     },
     "execution_count": 181,
     "metadata": {},
     "output_type": "execute_result"
    }
   ],
   "source": [
    "grid.best_estimator_"
   ]
  },
  {
   "cell_type": "code",
   "execution_count": 182,
   "id": "strong-debate",
   "metadata": {},
   "outputs": [],
   "source": [
    "model = grid.best_estimator_"
   ]
  },
  {
   "cell_type": "code",
   "execution_count": 183,
   "id": "brave-heading",
   "metadata": {},
   "outputs": [],
   "source": [
    "data['prediction'] = model.predict(x)"
   ]
  },
  {
   "cell_type": "code",
   "execution_count": 184,
   "id": "hollow-russia",
   "metadata": {},
   "outputs": [
    {
     "data": {
      "image/png": "[encoded data removed]",
      "text/plain": [
       "<Figure size 1080x360 with 1 Axes>"
      ]
     },
     "metadata": {
      "needs_background": "light"
     },
     "output_type": "display_data"
    }
   ],
   "source": [
    "ax=data['Price'].plot(kind='kde',figsize=(15,5))\n",
    "data['prediction'].plot(kind='kde',figsize=(15,5), ax = ax)\n",
    "plt.legend()\n",
    "plt.show()"
   ]
  },
  {
   "cell_type": "code",
   "execution_count": null,
   "id": "addressed-rochester",
   "metadata": {},
   "outputs": [],
   "source": []
  },
  {
   "cell_type": "code",
   "execution_count": null,
   "id": "elect-protein",
   "metadata": {},
   "outputs": [],
   "source": []
  }
 ],
 "metadata": {
  "kernelspec": {
   "display_name": "Python 3",
   "language": "python",
   "name": "python3"
  },
  "language_info": {
   "codemirror_mode": {
    "name": "ipython",
    "version": 3
   },
   "file_extension": ".py",
   "mimetype": "text/x-python",
   "name": "python",
   "nbconvert_exporter": "python",
   "pygments_lexer": "ipython3",
   "version": "3.8.5"
  }
 },
 "nbformat": 4,
 "nbformat_minor": 5
}

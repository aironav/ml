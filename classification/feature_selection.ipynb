{
 "cells": [
  {
   "cell_type": "code",
   "execution_count": 1,
   "id": "retained-chair",
   "metadata": {},
   "outputs": [],
   "source": [
    "import os \n",
    "import numpy as np\n",
    "import pandas as pd\n",
    "import seaborn as sns\n",
    "import plotly.express as px\n",
    "import matplotlib.pyplot as plt \n",
    "\n",
    "from sklearn.preprocessing import StandardScaler\n",
    "from sklearn.impute import SimpleImputer\n",
    "from sklearn.preprocessing import OneHotEncoder, LabelEncoder\n",
    "from sklearn.model_selection import train_test_split\n",
    "import pickle"
   ]
  },
  {
   "cell_type": "code",
   "execution_count": 2,
   "id": "oriental-support",
   "metadata": {},
   "outputs": [],
   "source": [
    "df = pd.read_csv('../dataset/diabetes.csv')"
   ]
  },
  {
   "cell_type": "code",
   "execution_count": 3,
   "id": "covered-plumbing",
   "metadata": {},
   "outputs": [
    {
     "data": {
      "text/html": [
       "<div>\n",
       "<style scoped>\n",
       "    .dataframe tbody tr th:only-of-type {\n",
       "        vertical-align: middle;\n",
       "    }\n",
       "\n",
       "    .dataframe tbody tr th {\n",
       "        vertical-align: top;\n",
       "    }\n",
       "\n",
       "    .dataframe thead th {\n",
       "        text-align: right;\n",
       "    }\n",
       "</style>\n",
       "<table border=\"1\" class=\"dataframe\">\n",
       "  <thead>\n",
       "    <tr style=\"text-align: right;\">\n",
       "      <th></th>\n",
       "      <th>Pregnancies</th>\n",
       "      <th>Glucose</th>\n",
       "      <th>BloodPressure</th>\n",
       "      <th>SkinThickness</th>\n",
       "      <th>Insulin</th>\n",
       "      <th>BMI</th>\n",
       "      <th>DiabetesPedigreeFunction</th>\n",
       "      <th>Age</th>\n",
       "      <th>Outcome</th>\n",
       "    </tr>\n",
       "  </thead>\n",
       "  <tbody>\n",
       "    <tr>\n",
       "      <th>0</th>\n",
       "      <td>6</td>\n",
       "      <td>148</td>\n",
       "      <td>72</td>\n",
       "      <td>35</td>\n",
       "      <td>0</td>\n",
       "      <td>33.6</td>\n",
       "      <td>0.627</td>\n",
       "      <td>50</td>\n",
       "      <td>1</td>\n",
       "    </tr>\n",
       "    <tr>\n",
       "      <th>1</th>\n",
       "      <td>1</td>\n",
       "      <td>85</td>\n",
       "      <td>66</td>\n",
       "      <td>29</td>\n",
       "      <td>0</td>\n",
       "      <td>26.6</td>\n",
       "      <td>0.351</td>\n",
       "      <td>31</td>\n",
       "      <td>0</td>\n",
       "    </tr>\n",
       "    <tr>\n",
       "      <th>2</th>\n",
       "      <td>8</td>\n",
       "      <td>183</td>\n",
       "      <td>64</td>\n",
       "      <td>0</td>\n",
       "      <td>0</td>\n",
       "      <td>23.3</td>\n",
       "      <td>0.672</td>\n",
       "      <td>32</td>\n",
       "      <td>1</td>\n",
       "    </tr>\n",
       "    <tr>\n",
       "      <th>3</th>\n",
       "      <td>1</td>\n",
       "      <td>89</td>\n",
       "      <td>66</td>\n",
       "      <td>23</td>\n",
       "      <td>94</td>\n",
       "      <td>28.1</td>\n",
       "      <td>0.167</td>\n",
       "      <td>21</td>\n",
       "      <td>0</td>\n",
       "    </tr>\n",
       "    <tr>\n",
       "      <th>4</th>\n",
       "      <td>0</td>\n",
       "      <td>137</td>\n",
       "      <td>40</td>\n",
       "      <td>35</td>\n",
       "      <td>168</td>\n",
       "      <td>43.1</td>\n",
       "      <td>2.288</td>\n",
       "      <td>33</td>\n",
       "      <td>1</td>\n",
       "    </tr>\n",
       "  </tbody>\n",
       "</table>\n",
       "</div>"
      ],
      "text/plain": [
       "   Pregnancies  Glucose  BloodPressure  SkinThickness  Insulin   BMI  \\\n",
       "0            6      148             72             35        0  33.6   \n",
       "1            1       85             66             29        0  26.6   \n",
       "2            8      183             64              0        0  23.3   \n",
       "3            1       89             66             23       94  28.1   \n",
       "4            0      137             40             35      168  43.1   \n",
       "\n",
       "   DiabetesPedigreeFunction  Age  Outcome  \n",
       "0                     0.627   50        1  \n",
       "1                     0.351   31        0  \n",
       "2                     0.672   32        1  \n",
       "3                     0.167   21        0  \n",
       "4                     2.288   33        1  "
      ]
     },
     "execution_count": 3,
     "metadata": {},
     "output_type": "execute_result"
    }
   ],
   "source": [
    "df.head()"
   ]
  },
  {
   "cell_type": "code",
   "execution_count": 4,
   "id": "chicken-latin",
   "metadata": {},
   "outputs": [
    {
     "name": "stdout",
     "output_type": "stream",
     "text": [
      "<class 'pandas.core.frame.DataFrame'>\n",
      "RangeIndex: 768 entries, 0 to 767\n",
      "Data columns (total 9 columns):\n",
      " #   Column                    Non-Null Count  Dtype  \n",
      "---  ------                    --------------  -----  \n",
      " 0   Pregnancies               768 non-null    int64  \n",
      " 1   Glucose                   768 non-null    int64  \n",
      " 2   BloodPressure             768 non-null    int64  \n",
      " 3   SkinThickness             768 non-null    int64  \n",
      " 4   Insulin                   768 non-null    int64  \n",
      " 5   BMI                       768 non-null    float64\n",
      " 6   DiabetesPedigreeFunction  768 non-null    float64\n",
      " 7   Age                       768 non-null    int64  \n",
      " 8   Outcome                   768 non-null    int64  \n",
      "dtypes: float64(2), int64(7)\n",
      "memory usage: 54.1 KB\n"
     ]
    }
   ],
   "source": [
    "df.info()"
   ]
  },
  {
   "cell_type": "code",
   "execution_count": 5,
   "id": "operating-street",
   "metadata": {},
   "outputs": [],
   "source": [
    "from sklearn.feature_selection import SelectKBest\n",
    "from sklearn.feature_selection import chi2\n",
    "from sklearn.feature_selection import RFE\n",
    "\n",
    "from sklearn.decomposition import PCA # principal component analysis\n",
    "\n",
    "from sklearn.ensemble import ExtraTreesClassifier\n",
    "\n",
    "from sklearn.model_selection import train_test_split\n",
    "from sklearn.metrics import confusion_matrix, classification_report\n",
    "\n",
    "from sklearn.neighbors import KNeighborsClassifier\n",
    "from sklearn.tree import DecisionTreeClassifier"
   ]
  },
  {
   "cell_type": "code",
   "execution_count": 6,
   "id": "paperback-candidate",
   "metadata": {},
   "outputs": [],
   "source": [
    "x= df[df.columns.tolist()[:-1]]\n",
    "y = df.Outcome"
   ]
  },
  {
   "cell_type": "markdown",
   "id": "municipal-professor",
   "metadata": {},
   "source": [
    "univariate analysis\n",
    "\n",
    "Univariate analysis is the simplest form of analyzing data. “Uni” means “one”, so in other words your data has only one variable. It doesn't deal with causes or relationships (unlike regression ) and it's major purpose is to describe; It takes data, summarizes that data and finds patterns in the data"
   ]
  },
  {
   "cell_type": "code",
   "execution_count": 7,
   "id": "knowing-trunk",
   "metadata": {},
   "outputs": [
    {
     "data": {
      "text/plain": [
       "array([[148.,   0.,  50.],\n",
       "       [ 85.,   0.,  31.],\n",
       "       [183.,   0.,  32.],\n",
       "       ...,\n",
       "       [121., 112.,  30.],\n",
       "       [126.,   0.,  47.],\n",
       "       [ 93.,   0.,  23.]])"
      ]
     },
     "execution_count": 7,
     "metadata": {},
     "output_type": "execute_result"
    }
   ],
   "source": [
    "test1 = SelectKBest(score_func=chi2,k=3)\n",
    "test1.fit_transform(x,y)"
   ]
  },
  {
   "cell_type": "code",
   "execution_count": 8,
   "id": "missing-citizenship",
   "metadata": {},
   "outputs": [
    {
     "name": "stdout",
     "output_type": "stream",
     "text": [
      "Pregnancies                    | 111.51969063588255\n",
      "Glucose                        | 1411.887040644141\n",
      "BloodPressure                  | 17.605373215320718\n",
      "SkinThickness                  | 53.10803983632434\n",
      "Insulin                        | 2175.5652729220137\n",
      "BMI                            | 127.669343331037\n",
      "DiabetesPedigreeFunction       | 5.392681546971445\n",
      "Age                            | 181.30368904430023\n",
      "select columns with higher chi2 score\n"
     ]
    }
   ],
   "source": [
    "for col,val in zip(df.columns, test1.scores_):\n",
    "    print(col.ljust(30),'|',val)\n",
    "print(\"select columns with higher chi2 score\")"
   ]
  },
  {
   "cell_type": "code",
   "execution_count": 9,
   "id": "numeric-diamond",
   "metadata": {},
   "outputs": [],
   "source": [
    "best_x = df[['Glucose','Insulin','Age']]"
   ]
  },
  {
   "cell_type": "code",
   "execution_count": 10,
   "id": "included-johns",
   "metadata": {},
   "outputs": [],
   "source": [
    "fig = px.scatter_3d(df,x='Glucose',y='Insulin',z='Age',color='Outcome')\n",
    "fig.write_html('feature_selection.html', auto_open = True)"
   ]
  },
  {
   "cell_type": "code",
   "execution_count": 11,
   "id": "desirable-silence",
   "metadata": {},
   "outputs": [],
   "source": [
    "kclf = KNeighborsClassifier(n_neighbors=3)"
   ]
  },
  {
   "cell_type": "code",
   "execution_count": 12,
   "id": "basic-liberty",
   "metadata": {},
   "outputs": [
    {
     "data": {
      "text/plain": [
       "KNeighborsClassifier(n_neighbors=3)"
      ]
     },
     "execution_count": 12,
     "metadata": {},
     "output_type": "execute_result"
    }
   ],
   "source": [
    "kclf.fit(best_x,y)"
   ]
  },
  {
   "cell_type": "code",
   "execution_count": 13,
   "id": "italian-paradise",
   "metadata": {},
   "outputs": [],
   "source": [
    "ypred = kclf.predict(best_x)"
   ]
  },
  {
   "cell_type": "code",
   "execution_count": 14,
   "id": "unavailable-dairy",
   "metadata": {},
   "outputs": [
    {
     "data": {
      "text/plain": [
       "array([[454,  70],\n",
       "       [ 46, 198]])"
      ]
     },
     "execution_count": 14,
     "metadata": {},
     "output_type": "execute_result"
    }
   ],
   "source": [
    "confusion_matrix(ypred,y)"
   ]
  },
  {
   "cell_type": "code",
   "execution_count": 15,
   "id": "decimal-newsletter",
   "metadata": {},
   "outputs": [
    {
     "name": "stdout",
     "output_type": "stream",
     "text": [
      "              precision    recall  f1-score   support\n",
      "\n",
      "           0       0.91      0.87      0.89       524\n",
      "           1       0.74      0.81      0.77       244\n",
      "\n",
      "    accuracy                           0.85       768\n",
      "   macro avg       0.82      0.84      0.83       768\n",
      "weighted avg       0.85      0.85      0.85       768\n",
      "\n"
     ]
    }
   ],
   "source": [
    "print(classification_report(ypred,y))"
   ]
  },
  {
   "cell_type": "markdown",
   "id": "champion-latin",
   "metadata": {},
   "source": [
    "## Recursive feature elimination"
   ]
  },
  {
   "cell_type": "code",
   "execution_count": 16,
   "id": "rising-minneapolis",
   "metadata": {},
   "outputs": [],
   "source": [
    "model = DecisionTreeClassifier()\n",
    "rfe = RFE(model,n_features_to_select=5)\n",
    "out = rfe.fit(x,y)"
   ]
  },
  {
   "cell_type": "code",
   "execution_count": 17,
   "id": "automatic-trick",
   "metadata": {},
   "outputs": [
    {
     "data": {
      "text/plain": [
       "array([2, 1, 1, 4, 3, 1, 1, 1])"
      ]
     },
     "execution_count": 17,
     "metadata": {},
     "output_type": "execute_result"
    }
   ],
   "source": [
    "out.ranking_"
   ]
  },
  {
   "cell_type": "code",
   "execution_count": 18,
   "id": "brazilian-fundamentals",
   "metadata": {},
   "outputs": [
    {
     "name": "stdout",
     "output_type": "stream",
     "text": [
      "2\tPregnancies\n",
      "1\tGlucose\n",
      "1\tBloodPressure\n",
      "4\tSkinThickness\n",
      "3\tInsulin\n",
      "1\tBMI\n",
      "1\tDiabetesPedigreeFunction\n",
      "1\tAge\n"
     ]
    }
   ],
   "source": [
    "for col,rank in zip(x,out.ranking_):\n",
    "    print(f'{rank}\\t{col}')"
   ]
  },
  {
   "cell_type": "code",
   "execution_count": 19,
   "id": "labeled-escape",
   "metadata": {},
   "outputs": [],
   "source": [
    "x_best =  out.transform(x)"
   ]
  },
  {
   "cell_type": "code",
   "execution_count": 20,
   "id": "elegant-staff",
   "metadata": {},
   "outputs": [
    {
     "data": {
      "text/plain": [
       "array([[148.   ,  72.   ,  33.6  ,   0.627,  50.   ],\n",
       "       [ 85.   ,  66.   ,  26.6  ,   0.351,  31.   ],\n",
       "       [183.   ,  64.   ,  23.3  ,   0.672,  32.   ],\n",
       "       ...,\n",
       "       [121.   ,  72.   ,  26.2  ,   0.245,  30.   ],\n",
       "       [126.   ,  60.   ,  30.1  ,   0.349,  47.   ],\n",
       "       [ 93.   ,  70.   ,  30.4  ,   0.315,  23.   ]])"
      ]
     },
     "execution_count": 20,
     "metadata": {},
     "output_type": "execute_result"
    }
   ],
   "source": [
    "x_best"
   ]
  },
  {
   "cell_type": "code",
   "execution_count": 21,
   "id": "monthly-syria",
   "metadata": {},
   "outputs": [
    {
     "data": {
      "text/plain": [
       "DecisionTreeClassifier()"
      ]
     },
     "execution_count": 21,
     "metadata": {},
     "output_type": "execute_result"
    }
   ],
   "source": [
    "clf = DecisionTreeClassifier()\n",
    "clf.fit(x_best,y)"
   ]
  },
  {
   "cell_type": "code",
   "execution_count": 22,
   "id": "animal-johnson",
   "metadata": {},
   "outputs": [
    {
     "name": "stdout",
     "output_type": "stream",
     "text": [
      "[[500   0]\n",
      " [  0 268]]\n"
     ]
    }
   ],
   "source": [
    "ypred = clf.predict(x_best)\n",
    "print(confusion_matrix(y,ypred))"
   ]
  },
  {
   "cell_type": "code",
   "execution_count": 23,
   "id": "danish-fluid",
   "metadata": {},
   "outputs": [
    {
     "name": "stdout",
     "output_type": "stream",
     "text": [
      "              precision    recall  f1-score   support\n",
      "\n",
      "           0       1.00      1.00      1.00       500\n",
      "           1       1.00      1.00      1.00       268\n",
      "\n",
      "    accuracy                           1.00       768\n",
      "   macro avg       1.00      1.00      1.00       768\n",
      "weighted avg       1.00      1.00      1.00       768\n",
      "\n"
     ]
    }
   ],
   "source": [
    "print(classification_report(y,ypred))"
   ]
  },
  {
   "cell_type": "code",
   "execution_count": 24,
   "id": "fixed-namibia",
   "metadata": {},
   "outputs": [],
   "source": [
    "px.scatter_3d(df,x='Glucose',y='BMI',z='DiabetesPedigreeFunction',color='Outcome')\n",
    "fig.write_html('decission_tree_classifier.html', auto_open = True)"
   ]
  },
  {
   "cell_type": "markdown",
   "id": "alternate-farming",
   "metadata": {},
   "source": [
    "Principal Component Analysis\n",
    "\n",
    "\n",
    "expanded > 2 x 2 x 2 x 2 x 2 reduced > 2**5"
   ]
  },
  {
   "cell_type": "code",
   "execution_count": 26,
   "id": "olive-belle",
   "metadata": {},
   "outputs": [],
   "source": [
    "pca = PCA(n_components=3)\n",
    "xp = pca.fit_transform(x)"
   ]
  },
  {
   "cell_type": "code",
   "execution_count": 27,
   "id": "proved-zoning",
   "metadata": {},
   "outputs": [
    {
     "data": {
      "text/plain": [
       "DecisionTreeClassifier()"
      ]
     },
     "execution_count": 27,
     "metadata": {},
     "output_type": "execute_result"
    }
   ],
   "source": [
    "clf = DecisionTreeClassifier()\n",
    "clf.fit(xp,y)"
   ]
  },
  {
   "cell_type": "code",
   "execution_count": 28,
   "id": "overall-finance",
   "metadata": {},
   "outputs": [
    {
     "name": "stdout",
     "output_type": "stream",
     "text": [
      "[[500   0]\n",
      " [  0 268]]\n"
     ]
    }
   ],
   "source": [
    "ypred = clf.predict(xp)\n",
    "print(confusion_matrix(y,ypred))"
   ]
  },
  {
   "cell_type": "code",
   "execution_count": 29,
   "id": "portable-hypothetical",
   "metadata": {},
   "outputs": [
    {
     "name": "stdout",
     "output_type": "stream",
     "text": [
      "[[500   0]\n",
      " [  0 268]]\n"
     ]
    }
   ],
   "source": [
    "kclf = KNeighborsClassifier(n_neighbors=3)\n",
    "kclf.fit(xp,y)\n",
    "ypred = clf.predict(xp)\n",
    "print(confusion_matrix(y,ypred))"
   ]
  },
  {
   "cell_type": "markdown",
   "id": "unnecessary-heath",
   "metadata": {},
   "source": [
    "feature importance using ExtratreeClassifier"
   ]
  },
  {
   "cell_type": "code",
   "execution_count": 30,
   "id": "published-strap",
   "metadata": {},
   "outputs": [
    {
     "data": {
      "text/plain": [
       "array([0.11169813, 0.23317424, 0.09876604, 0.08195352, 0.07436407,\n",
       "       0.14401082, 0.11550136, 0.14053182])"
      ]
     },
     "execution_count": 30,
     "metadata": {},
     "output_type": "execute_result"
    }
   ],
   "source": [
    "feat = ExtraTreesClassifier(n_estimators=100)\n",
    "feat.fit(x,y)\n",
    "feat.feature_importances_"
   ]
  },
  {
   "cell_type": "code",
   "execution_count": 32,
   "id": "historic-impossible",
   "metadata": {},
   "outputs": [
    {
     "name": "stdout",
     "output_type": "stream",
     "text": [
      "0.11169812923171953\tPregnancies\n",
      "0.23317424311513368\tGlucose\n",
      "0.0987660356385094\tBloodPressure\n",
      "0.08195352237411975\tSkinThickness\n",
      "0.0743640678232055\tInsulin\n",
      "0.14401082443167385\tBMI\n",
      "0.11550135700437496\tDiabetesPedigreeFunction\n",
      "0.14053182038126327\tAge\n"
     ]
    }
   ],
   "source": [
    "for col,rank in zip(x,feat.feature_importances_):\n",
    "    print(f'{rank}\\t{col}')"
   ]
  },
  {
   "cell_type": "markdown",
   "id": "outer-eating",
   "metadata": {},
   "source": [
    "task -> use these techinques to make a classifier on mushroom dataset.\n",
    "\n",
    "use label encoder to encoder each column to numeric"
   ]
  },
  {
   "cell_type": "markdown",
   "id": "original-lindsay",
   "metadata": {},
   "source": [
    "# feature selection techniques¶\n",
    "\n",
    "SelectKBest\n",
    "\n",
    "RFE\n",
    "\n",
    "ExtraTreesClassifier\n",
    "\n",
    "PCA"
   ]
  },
  {
   "cell_type": "code",
   "execution_count": null,
   "id": "current-coral",
   "metadata": {},
   "outputs": [],
   "source": []
  },
  {
   "cell_type": "code",
   "execution_count": null,
   "id": "accredited-salvation",
   "metadata": {},
   "outputs": [],
   "source": []
  }
 ],
 "metadata": {
  "kernelspec": {
   "display_name": "Python 3",
   "language": "python",
   "name": "python3"
  },
  "language_info": {
   "codemirror_mode": {
    "name": "ipython",
    "version": 3
   },
   "file_extension": ".py",
   "mimetype": "text/x-python",
   "name": "python",
   "nbconvert_exporter": "python",
   "pygments_lexer": "ipython3",
   "version": "3.8.6"
  }
 },
 "nbformat": 4,
 "nbformat_minor": 5
}
